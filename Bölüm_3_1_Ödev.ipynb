{
 "cells": [
  {
   "cell_type": "code",
   "execution_count": null,
   "metadata": {},
   "outputs": [],
   "source": [
    "#numpy kütüphanesini kullanarak üreteceğiniz 3 farklı veri aracılığı \n",
    "#ile merkezi eğilim ve dağılım ölçümlerini hem yukarıda verilen \n",
    "#matematiksel formülle hem de python'da hazır bulunan \n",
    "#(built-in) kodlar aracılığıyla analiz edin!!!"
   ]
  },
  {
   "cell_type": "code",
   "execution_count": 18,
   "metadata": {},
   "outputs": [],
   "source": [
    "import numpy as np\n",
    "import pandas as pd\n",
    "import matplotlib.pyplot as plt\n",
    "import statistics as st\n",
    "\n",
    "import warnings\n",
    "warnings.filterwarnings(\"ignore\")"
   ]
  },
  {
   "cell_type": "code",
   "execution_count": 12,
   "metadata": {},
   "outputs": [],
   "source": [
    "rastgele=pd.DataFrame()\n",
    "rastgele['randint']=np.random.randint(5,50,200)\n",
    "rastgele['randint_sqrt']=np.sqrt(rastgele['randint'])\n",
    "rastgele['randint_sq']=rastgele['randint']**2"
   ]
  },
  {
   "cell_type": "code",
   "execution_count": 14,
   "metadata": {},
   "outputs": [
    {
     "data": {
      "text/plain": [
       "randint          26.00000\n",
       "randint_sqrt      5.09902\n",
       "randint_sq      676.00000\n",
       "dtype: float64"
      ]
     },
     "execution_count": 14,
     "metadata": {},
     "output_type": "execute_result"
    }
   ],
   "source": [
    "rastgele.median()"
   ]
  },
  {
   "cell_type": "code",
   "execution_count": 16,
   "metadata": {},
   "outputs": [
    {
     "data": {
      "text/html": [
       "<div>\n",
       "<style scoped>\n",
       "    .dataframe tbody tr th:only-of-type {\n",
       "        vertical-align: middle;\n",
       "    }\n",
       "\n",
       "    .dataframe tbody tr th {\n",
       "        vertical-align: top;\n",
       "    }\n",
       "\n",
       "    .dataframe thead th {\n",
       "        text-align: right;\n",
       "    }\n",
       "</style>\n",
       "<table border=\"1\" class=\"dataframe\">\n",
       "  <thead>\n",
       "    <tr style=\"text-align: right;\">\n",
       "      <th></th>\n",
       "      <th>randint</th>\n",
       "      <th>randint_sqrt</th>\n",
       "      <th>randint_sq</th>\n",
       "    </tr>\n",
       "  </thead>\n",
       "  <tbody>\n",
       "    <tr>\n",
       "      <td>0</td>\n",
       "      <td>26</td>\n",
       "      <td>5.09902</td>\n",
       "      <td>676</td>\n",
       "    </tr>\n",
       "  </tbody>\n",
       "</table>\n",
       "</div>"
      ],
      "text/plain": [
       "   randint  randint_sqrt  randint_sq\n",
       "0       26       5.09902         676"
      ]
     },
     "execution_count": 16,
     "metadata": {},
     "output_type": "execute_result"
    }
   ],
   "source": [
    "rastgele.mode()"
   ]
  },
  {
   "cell_type": "code",
   "execution_count": 24,
   "metadata": {},
   "outputs": [
    {
     "data": {
      "text/plain": [
       "randint          26.24000\n",
       "randint_sqrt      4.94766\n",
       "randint_sq      848.37000\n",
       "dtype: float64"
      ]
     },
     "execution_count": 24,
     "metadata": {},
     "output_type": "execute_result"
    }
   ],
   "source": [
    "rastgele.mean()"
   ]
  },
  {
   "cell_type": "code",
   "execution_count": 25,
   "metadata": {
    "scrolled": true
   },
   "outputs": [
    {
     "data": {
      "text/plain": [
       "randint            160.635578\n",
       "randint_sqrt         1.769509\n",
       "randint_sq      482958.927739\n",
       "dtype: float64"
      ]
     },
     "execution_count": 25,
     "metadata": {},
     "output_type": "execute_result"
    }
   ],
   "source": [
    "rastgele.var()"
   ]
  },
  {
   "cell_type": "code",
   "execution_count": 26,
   "metadata": {},
   "outputs": [
    {
     "data": {
      "text/plain": [
       "randint          12.674209\n",
       "randint_sqrt      1.330229\n",
       "randint_sq      694.952464\n",
       "dtype: float64"
      ]
     },
     "execution_count": 26,
     "metadata": {},
     "output_type": "execute_result"
    }
   ],
   "source": [
    "rastgele.std()"
   ]
  },
  {
   "cell_type": "code",
   "execution_count": 29,
   "metadata": {},
   "outputs": [
    {
     "name": "stdout",
     "output_type": "stream",
     "text": [
      "26.24\n",
      "848.37\n",
      "4.947659916447631\n"
     ]
    }
   ],
   "source": [
    "print(st.mean(rastgele['randint']))\n",
    "print(st.mean(rastgele['randint_sq']))\n",
    "print(st.mean(rastgele['randint_sqrt']))"
   ]
  },
  {
   "cell_type": "code",
   "execution_count": 30,
   "metadata": {},
   "outputs": [
    {
     "name": "stdout",
     "output_type": "stream",
     "text": [
      "26.0\n",
      "676.0\n",
      "5.0990195135927845\n"
     ]
    }
   ],
   "source": [
    "print(st.median(rastgele['randint']))\n",
    "print(st.median(rastgele['randint_sq']))\n",
    "print(st.median(rastgele['randint_sqrt']))"
   ]
  },
  {
   "cell_type": "code",
   "execution_count": 32,
   "metadata": {},
   "outputs": [
    {
     "name": "stdout",
     "output_type": "stream",
     "text": [
      "26\n",
      "676\n",
      "5.0990195135927845\n"
     ]
    }
   ],
   "source": [
    "print(st.mode(rastgele['randint']))\n",
    "print(st.mode(rastgele['randint_sq']))\n",
    "print(st.mode(rastgele['randint_sqrt']))"
   ]
  },
  {
   "cell_type": "code",
   "execution_count": 33,
   "metadata": {},
   "outputs": [
    {
     "name": "stdout",
     "output_type": "stream",
     "text": [
      "12.674209162288873\n",
      "694.9524643734228\n",
      "1.33022888844578\n"
     ]
    }
   ],
   "source": [
    "print(st.stdev(rastgele['randint']))\n",
    "print(st.stdev(rastgele['randint_sq']))\n",
    "print(st.stdev(rastgele['randint_sqrt']))"
   ]
  },
  {
   "cell_type": "code",
   "execution_count": 34,
   "metadata": {},
   "outputs": [
    {
     "name": "stdout",
     "output_type": "stream",
     "text": [
      "160.63557788944723\n",
      "482958.9277386935\n",
      "1.7695088956556952\n"
     ]
    }
   ],
   "source": [
    "print(st.variance(rastgele['randint']))\n",
    "print(st.variance(rastgele['randint_sq']))\n",
    "print(st.variance(rastgele['randint_sqrt']))"
   ]
  },
  {
   "cell_type": "code",
   "execution_count": null,
   "metadata": {},
   "outputs": [],
   "source": []
  }
 ],
 "metadata": {
  "kernelspec": {
   "display_name": "Python 3",
   "language": "python",
   "name": "python3"
  },
  "language_info": {
   "codemirror_mode": {
    "name": "ipython",
    "version": 3
   },
   "file_extension": ".py",
   "mimetype": "text/x-python",
   "name": "python",
   "nbconvert_exporter": "python",
   "pygments_lexer": "ipython3",
   "version": "3.7.4"
  }
 },
 "nbformat": 4,
 "nbformat_minor": 2
}
