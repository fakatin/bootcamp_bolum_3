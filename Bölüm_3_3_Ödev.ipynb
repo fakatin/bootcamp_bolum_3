{
 "cells": [
  {
   "cell_type": "code",
   "execution_count": 31,
   "metadata": {},
   "outputs": [],
   "source": [
    "import numpy as np\n",
    "import matplotlib.pyplot as plt\n",
    "import pandas as pd\n",
    "nd = np.random.normal(50,5,100)\n",
    "bd=np.random.binomial(50,.5,100)"
   ]
  },
  {
   "cell_type": "code",
   "execution_count": 44,
   "metadata": {},
   "outputs": [],
   "source": [
    "nd.sort()"
   ]
  },
  {
   "cell_type": "code",
   "execution_count": 45,
   "metadata": {},
   "outputs": [],
   "source": [
    "bd.sort()"
   ]
  },
  {
   "cell_type": "code",
   "execution_count": 46,
   "metadata": {
    "scrolled": true
   },
   "outputs": [
    {
     "data": {
      "text/plain": [
       "array([40.6552947 , 41.23908342, 42.07424128, 42.19127277, 42.73768353,\n",
       "       43.30378042, 43.32677867, 43.68379732, 43.71981051, 43.9956131 ,\n",
       "       44.23707687, 44.35833012, 44.90180191, 44.90926377, 44.93397565,\n",
       "       44.93535932, 45.07171506, 45.18611965, 45.35807532, 45.5455431 ,\n",
       "       46.36217422, 46.4973063 , 46.96110557, 47.10997402, 47.11595802,\n",
       "       47.18053355, 47.27738654, 47.63245514, 47.74888288, 47.7503634 ,\n",
       "       47.97726237, 48.17437029, 48.62344392, 48.80650554, 48.82686672,\n",
       "       49.11788912, 49.25667632, 49.44556869, 49.50482257, 49.53069954,\n",
       "       49.59940215, 49.66453909, 49.81673921, 49.88811004, 50.10489626,\n",
       "       50.32749473, 50.35973903, 50.47257122, 50.76766105, 50.82620435,\n",
       "       50.93073837, 51.06475744, 51.09864236, 51.10607958, 51.12822844,\n",
       "       51.37936422, 51.49098818, 51.78397442, 51.87850613, 51.97074169,\n",
       "       52.00468153, 52.06528225, 52.28356347, 52.31916065, 52.42182421,\n",
       "       52.68189546, 52.75082862, 53.01135947, 53.48867087, 53.49412875,\n",
       "       53.55393981, 53.57906579, 53.91889661, 54.089103  , 54.09258967,\n",
       "       54.3567488 , 54.36282551, 54.7365443 , 54.81078838, 54.92127405,\n",
       "       55.03610608, 55.09950022, 55.1455491 , 55.2837862 , 55.95746038,\n",
       "       56.37380676, 56.49840512, 56.71098248, 57.09047521, 57.11420529,\n",
       "       57.41351551, 57.5309684 , 58.29751331, 58.52373541, 58.66827435,\n",
       "       59.18934709, 59.3715378 , 59.77566604, 60.15544573, 64.98111314])"
      ]
     },
     "execution_count": 46,
     "metadata": {},
     "output_type": "execute_result"
    }
   ],
   "source": [
    "nd"
   ]
  },
  {
   "cell_type": "code",
   "execution_count": 47,
   "metadata": {},
   "outputs": [
    {
     "data": {
      "text/plain": [
       "array([14, 16, 17, 17, 17, 18, 18, 18, 18, 20, 21, 21, 21, 21, 22, 22, 22,\n",
       "       22, 22, 22, 22, 23, 23, 23, 23, 23, 23, 23, 23, 23, 24, 24, 24, 24,\n",
       "       24, 24, 24, 24, 24, 24, 24, 24, 25, 25, 25, 25, 25, 25, 25, 25, 25,\n",
       "       25, 25, 25, 25, 25, 25, 25, 25, 26, 26, 26, 26, 26, 26, 26, 26, 26,\n",
       "       26, 26, 26, 26, 27, 27, 27, 28, 28, 28, 28, 28, 28, 29, 29, 29, 29,\n",
       "       29, 29, 30, 30, 31, 31, 31, 31, 31, 32, 33, 33, 34, 34, 34])"
      ]
     },
     "execution_count": 47,
     "metadata": {},
     "output_type": "execute_result"
    }
   ],
   "source": [
    "bd"
   ]
  },
  {
   "cell_type": "code",
   "execution_count": 54,
   "metadata": {},
   "outputs": [
    {
     "data": {
      "image/png": "[encoded data removed]",
      "text/plain": [
       "<Figure size 432x288 with 1 Axes>"
      ]
     },
     "metadata": {
      "needs_background": "light"
     },
     "output_type": "display_data"
    }
   ],
   "source": [
    "plt.hist(nd)\n",
    "plt.show()"
   ]
  },
  {
   "cell_type": "code",
   "execution_count": 62,
   "metadata": {
    "scrolled": true
   },
   "outputs": [
    {
     "data": {
      "image/png": "[encoded data removed]",
      "text/plain": [
       "<Figure size 600x375 with 1 Axes>"
      ]
     },
     "metadata": {
      "needs_background": "light"
     },
     "output_type": "display_data"
    }
   ],
   "source": [
    "plt.figure(figsize=(8,5), dpi = 75)\n",
    "plt.scatter(nd, bd) \n",
    "plt.ylabel('Binomial Dağılım') \n",
    "plt.xlabel('Normal Dağılım')\n",
    "plt.plot([np.min(nd), np.max(nd)],\n",
    "         [np.min(bd), np.max(bd)], c='red')\n",
    "\n",
    "plt.show()"
   ]
  },
  {
   "cell_type": "code",
   "execution_count": null,
   "metadata": {},
   "outputs": [],
   "source": []
  },
  {
   "cell_type": "code",
   "execution_count": 26,
   "metadata": {},
   "outputs": [],
   "source": [
    "gg=pd.read_csv('GOOG.CSV')"
   ]
  },
  {
   "cell_type": "code",
   "execution_count": 28,
   "metadata": {},
   "outputs": [
    {
     "data": {
      "text/html": [
       "<div>\n",
       "<style scoped>\n",
       "    .dataframe tbody tr th:only-of-type {\n",
       "        vertical-align: middle;\n",
       "    }\n",
       "\n",
       "    .dataframe tbody tr th {\n",
       "        vertical-align: top;\n",
       "    }\n",
       "\n",
       "    .dataframe thead th {\n",
       "        text-align: right;\n",
       "    }\n",
       "</style>\n",
       "<table border=\"1\" class=\"dataframe\">\n",
       "  <thead>\n",
       "    <tr style=\"text-align: right;\">\n",
       "      <th></th>\n",
       "      <th>Date</th>\n",
       "      <th>Open</th>\n",
       "      <th>High</th>\n",
       "      <th>Low</th>\n",
       "      <th>Close</th>\n",
       "      <th>Adj Close</th>\n",
       "      <th>Volume</th>\n",
       "    </tr>\n",
       "  </thead>\n",
       "  <tbody>\n",
       "    <tr>\n",
       "      <td>0</td>\n",
       "      <td>2015-01-02</td>\n",
       "      <td>527.561584</td>\n",
       "      <td>529.815369</td>\n",
       "      <td>522.665039</td>\n",
       "      <td>523.373108</td>\n",
       "      <td>523.373108</td>\n",
       "      <td>1447500</td>\n",
       "    </tr>\n",
       "    <tr>\n",
       "      <td>1</td>\n",
       "      <td>2015-01-05</td>\n",
       "      <td>521.827332</td>\n",
       "      <td>522.894409</td>\n",
       "      <td>511.655243</td>\n",
       "      <td>512.463013</td>\n",
       "      <td>512.463013</td>\n",
       "      <td>2059800</td>\n",
       "    </tr>\n",
       "    <tr>\n",
       "      <td>2</td>\n",
       "      <td>2015-01-06</td>\n",
       "      <td>513.589966</td>\n",
       "      <td>514.761719</td>\n",
       "      <td>499.678131</td>\n",
       "      <td>500.585632</td>\n",
       "      <td>500.585632</td>\n",
       "      <td>2899900</td>\n",
       "    </tr>\n",
       "    <tr>\n",
       "      <td>3</td>\n",
       "      <td>2015-01-07</td>\n",
       "      <td>505.611847</td>\n",
       "      <td>505.855164</td>\n",
       "      <td>498.281952</td>\n",
       "      <td>499.727997</td>\n",
       "      <td>499.727997</td>\n",
       "      <td>2065000</td>\n",
       "    </tr>\n",
       "    <tr>\n",
       "      <td>4</td>\n",
       "      <td>2015-01-08</td>\n",
       "      <td>496.626526</td>\n",
       "      <td>502.101471</td>\n",
       "      <td>489.655640</td>\n",
       "      <td>501.303680</td>\n",
       "      <td>501.303680</td>\n",
       "      <td>3353500</td>\n",
       "    </tr>\n",
       "    <tr>\n",
       "      <td>...</td>\n",
       "      <td>...</td>\n",
       "      <td>...</td>\n",
       "      <td>...</td>\n",
       "      <td>...</td>\n",
       "      <td>...</td>\n",
       "      <td>...</td>\n",
       "      <td>...</td>\n",
       "    </tr>\n",
       "    <tr>\n",
       "      <td>750</td>\n",
       "      <td>2017-12-22</td>\n",
       "      <td>1061.109985</td>\n",
       "      <td>1064.199951</td>\n",
       "      <td>1059.439941</td>\n",
       "      <td>1060.119995</td>\n",
       "      <td>1060.119995</td>\n",
       "      <td>755100</td>\n",
       "    </tr>\n",
       "    <tr>\n",
       "      <td>751</td>\n",
       "      <td>2017-12-26</td>\n",
       "      <td>1058.069946</td>\n",
       "      <td>1060.119995</td>\n",
       "      <td>1050.199951</td>\n",
       "      <td>1056.739990</td>\n",
       "      <td>1056.739990</td>\n",
       "      <td>760600</td>\n",
       "    </tr>\n",
       "    <tr>\n",
       "      <td>752</td>\n",
       "      <td>2017-12-27</td>\n",
       "      <td>1057.390015</td>\n",
       "      <td>1058.369995</td>\n",
       "      <td>1048.050049</td>\n",
       "      <td>1049.369995</td>\n",
       "      <td>1049.369995</td>\n",
       "      <td>1271900</td>\n",
       "    </tr>\n",
       "    <tr>\n",
       "      <td>753</td>\n",
       "      <td>2017-12-28</td>\n",
       "      <td>1051.599976</td>\n",
       "      <td>1054.750000</td>\n",
       "      <td>1044.770020</td>\n",
       "      <td>1048.140015</td>\n",
       "      <td>1048.140015</td>\n",
       "      <td>837100</td>\n",
       "    </tr>\n",
       "    <tr>\n",
       "      <td>754</td>\n",
       "      <td>2017-12-29</td>\n",
       "      <td>1046.719971</td>\n",
       "      <td>1049.699951</td>\n",
       "      <td>1044.900024</td>\n",
       "      <td>1046.400024</td>\n",
       "      <td>1046.400024</td>\n",
       "      <td>887500</td>\n",
       "    </tr>\n",
       "  </tbody>\n",
       "</table>\n",
       "<p>755 rows × 7 columns</p>\n",
       "</div>"
      ],
      "text/plain": [
       "           Date         Open         High          Low        Close  \\\n",
       "0    2015-01-02   527.561584   529.815369   522.665039   523.373108   \n",
       "1    2015-01-05   521.827332   522.894409   511.655243   512.463013   \n",
       "2    2015-01-06   513.589966   514.761719   499.678131   500.585632   \n",
       "3    2015-01-07   505.611847   505.855164   498.281952   499.727997   \n",
       "4    2015-01-08   496.626526   502.101471   489.655640   501.303680   \n",
       "..          ...          ...          ...          ...          ...   \n",
       "750  2017-12-22  1061.109985  1064.199951  1059.439941  1060.119995   \n",
       "751  2017-12-26  1058.069946  1060.119995  1050.199951  1056.739990   \n",
       "752  2017-12-27  1057.390015  1058.369995  1048.050049  1049.369995   \n",
       "753  2017-12-28  1051.599976  1054.750000  1044.770020  1048.140015   \n",
       "754  2017-12-29  1046.719971  1049.699951  1044.900024  1046.400024   \n",
       "\n",
       "       Adj Close   Volume  \n",
       "0     523.373108  1447500  \n",
       "1     512.463013  2059800  \n",
       "2     500.585632  2899900  \n",
       "3     499.727997  2065000  \n",
       "4     501.303680  3353500  \n",
       "..           ...      ...  \n",
       "750  1060.119995   755100  \n",
       "751  1056.739990   760600  \n",
       "752  1049.369995  1271900  \n",
       "753  1048.140015   837100  \n",
       "754  1046.400024   887500  \n",
       "\n",
       "[755 rows x 7 columns]"
      ]
     },
     "execution_count": 28,
     "metadata": {},
     "output_type": "execute_result"
    }
   ],
   "source": [
    "gg"
   ]
  },
  {
   "cell_type": "code",
   "execution_count": null,
   "metadata": {},
   "outputs": [],
   "source": []
  }
 ],
 "metadata": {
  "kernelspec": {
   "display_name": "Python 3",
   "language": "python",
   "name": "python3"
  },
  "language_info": {
   "codemirror_mode": {
    "name": "ipython",
    "version": 3
   },
   "file_extension": ".py",
   "mimetype": "text/x-python",
   "name": "python",
   "nbconvert_exporter": "python",
   "pygments_lexer": "ipython3",
   "version": "3.7.4"
  }
 },
 "nbformat": 4,
 "nbformat_minor": 2
}
